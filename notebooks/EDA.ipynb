{
 "cells": [
  {
   "cell_type": "code",
   "execution_count": null,
   "id": "1f89ec7a",
   "metadata": {},
   "outputs": [],
   "source": [
    "%load_ext autoreload\n",
    "%autoreload 2"
   ]
  },
  {
   "cell_type": "code",
   "execution_count": null,
   "id": "a17a5be8",
   "metadata": {},
   "outputs": [],
   "source": [
    "import pandas as pd\n",
    "import numpy as np\n",
    "import matplotlib.pyplot as plt\n",
    "import seaborn as sns\n",
    "import sys\n",
    "import os"
   ]
  },
  {
   "cell_type": "markdown",
   "id": "29c50686",
   "metadata": {},
   "source": [
    "#### Importing Modules from Local Directory"
   ]
  },
  {
   "cell_type": "code",
   "execution_count": null,
   "id": "21a09ee5",
   "metadata": {},
   "outputs": [],
   "source": [
    "project_root = os.path.abspath('..')\n",
    "\n",
    "# Adding the project root to my system path\n",
    "if project_root not in sys.path:\n",
    "    sys.path.append(project_root)\n",
    "\n",
    "from src.data_loader import telco_data_loader\n",
    "from src.data_processor import telcoDataCleaner"
   ]
  },
  {
   "cell_type": "markdown",
   "id": "08f0a877",
   "metadata": {},
   "source": [
    "#### Loading Raw Data from Kaggle"
   ]
  },
  {
   "cell_type": "code",
   "execution_count": null,
   "id": "a67a95aa",
   "metadata": {},
   "outputs": [],
   "source": [
    "# running the loader\n",
    "raw_telco_data = telco_data_loader()"
   ]
  },
  {
   "cell_type": "markdown",
   "id": "22c2d33e",
   "metadata": {},
   "source": [
    "## Initial Data Exploration"
   ]
  },
  {
   "cell_type": "code",
   "execution_count": null,
   "id": "3db28f38",
   "metadata": {},
   "outputs": [],
   "source": [
    "print(f\"Dataframe shape: {raw_telco_data.shape}\")\n",
    "print(f\"Dataframe columns: {raw_telco_data.columns}\")\n",
    "print(raw_telco_data.info())"
   ]
  },
  {
   "cell_type": "markdown",
   "id": "f2d0a7a7",
   "metadata": {},
   "source": [
    "Analyzing missing values from columns in the datset."
   ]
  },
  {
   "cell_type": "markdown",
   "id": "63fbf7b8",
   "metadata": {},
   "source": [
    "#### Cleaning up the data for visualization"
   ]
  },
  {
   "cell_type": "code",
   "execution_count": null,
   "id": "010ceb14",
   "metadata": {},
   "outputs": [],
   "source": [
    "cleaner = telcoDataCleaner()\n",
    "\n",
    "cleaned_data = cleaner.clean_data(raw_telco_data)['clean_table']"
   ]
  },
  {
   "cell_type": "code",
   "execution_count": null,
   "id": "ce14f04b",
   "metadata": {},
   "outputs": [],
   "source": [
    "raw_telco_data['InternetService'].unique()"
   ]
  },
  {
   "cell_type": "markdown",
   "id": "2a15f686",
   "metadata": {},
   "source": [
    "#### Plotting"
   ]
  },
  {
   "cell_type": "code",
   "execution_count": null,
   "id": "b0852792",
   "metadata": {},
   "outputs": [],
   "source": [
    "sns.histplot(data = cleaned_data, x = 'TotalCharges')\n",
    "plt.title(\"Histogram of Total Charges\")\n",
    "plt.show()"
   ]
  },
  {
   "cell_type": "code",
   "execution_count": null,
   "id": "7a5e2bf7",
   "metadata": {},
   "outputs": [],
   "source": [
    "#print(cleaned_data.describe())"
   ]
  },
  {
   "cell_type": "code",
   "execution_count": null,
   "id": "88a68b40",
   "metadata": {},
   "outputs": [],
   "source": [
    "sns.histplot(data = cleaned_data, x = 'MonthlyCharges')\n",
    "plt.title(\"Histogram of Monthly Charges\")\n",
    "plt.show()"
   ]
  },
  {
   "cell_type": "markdown",
   "id": "fd754270",
   "metadata": {},
   "source": [
    "Appears to be a trimodal distribution: a cluster of monthly charges around $20, another group around $50, and a final around $80"
   ]
  },
  {
   "cell_type": "code",
   "execution_count": null,
   "id": "6ba24e77",
   "metadata": {},
   "outputs": [],
   "source": [
    "cleaned_data.loc[:, ['TechSupport', 'Churn']].groupby('TechSupport').mean()"
   ]
  },
  {
   "cell_type": "code",
   "execution_count": null,
   "id": "e46b4372",
   "metadata": {},
   "outputs": [],
   "source": [
    "cleaned_data.loc[:, ['SeniorCitizen', 'Churn']].groupby('SeniorCitizen').mean()"
   ]
  },
  {
   "cell_type": "code",
   "execution_count": null,
   "id": "ac20ae8e",
   "metadata": {},
   "outputs": [],
   "source": [
    "cleaned_data.loc[:, ['SeniorCitizen', 'MonthlyCharges']].groupby('SeniorCitizen').mean()"
   ]
  },
  {
   "cell_type": "code",
   "execution_count": null,
   "id": "6ccde019",
   "metadata": {},
   "outputs": [],
   "source": [
    "sns.histplot(data = cleaned_data,\n",
    "             x = 'MonthlyCharges',\n",
    "             hue = 'SeniorCitizen',\n",
    "             multiple = 'stack')\n",
    "plt.title('Strip Plot of Total Charges by Senior Citizen')\n",
    "plt.show()"
   ]
  },
  {
   "cell_type": "code",
   "execution_count": null,
   "id": "83f4f3b4",
   "metadata": {},
   "outputs": [],
   "source": [
    "cleaned_data.loc[:, ['tenure', 'Churn']].groupby('Churn').mean()"
   ]
  },
  {
   "cell_type": "code",
   "execution_count": null,
   "id": "034d156e",
   "metadata": {},
   "outputs": [],
   "source": [
    "cleaned_data.loc[:, ['StreamingMovies', 'Churn']].groupby('StreamingMovies').mean()"
   ]
  },
  {
   "cell_type": "code",
   "execution_count": null,
   "id": "24dd0ec5",
   "metadata": {},
   "outputs": [],
   "source": [
    "sns.relplot(data = cleaned_data,\n",
    "            x = 'tenure',\n",
    "            y = 'TotalCharges',\n",
    "            hue = 'Churn',\n",
    "            palette = {1 : 'red', 0 : 'lightgrey'},\n",
    "            alpha = 0.5)\n",
    "plt.title(\"Tenure vs. Total Charges Colored by Churn\")\n",
    "plt.ylabel(\"Total Charges\")\n",
    "plt.xlabel(\"Tenure\")\n",
    "plt.show()"
   ]
  },
  {
   "cell_type": "code",
   "execution_count": null,
   "id": "ab211918",
   "metadata": {},
   "outputs": [],
   "source": [
    "sns.relplot(cleaned_data,\n",
    "            x = 'tenure',\n",
    "            y = 'MonthlyCharges',\n",
    "            hue = 'Churn',\n",
    "            palette = {1 : 'red', 0 : 'lightgrey'},\n",
    "            alpha = 0.5)\n",
    "plt.title(\"Tenure vs. Monthly Charges Colored by Churn\")\n",
    "plt.ylabel(\"Monthly Charges\")\n",
    "plt.xlabel(\"Tenure\")\n",
    "plt.show()"
   ]
  },
  {
   "cell_type": "code",
   "execution_count": null,
   "id": "6080ad00",
   "metadata": {},
   "outputs": [],
   "source": [
    "sns.stripplot(cleaned_data,\n",
    "            x = 'tenure',\n",
    "            y = 'InternetService',\n",
    "            hue = 'Churn',\n",
    "            palette = {1 : 'red', 0 : 'lightgrey'},\n",
    "            alpha = 0.5)\n",
    "plt.title(\"Tenure Stratified by Internet Type Colored by Churn\")\n",
    "plt.ylabel(\"Monthly Charges\")\n",
    "plt.xlabel(\"Tenure\")\n",
    "plt.show()"
   ]
  },
  {
   "cell_type": "code",
   "execution_count": null,
   "id": "faa66585",
   "metadata": {},
   "outputs": [],
   "source": [
    "# Scatterplot of tenure vs monthly charges colored by churn and styled by internet service\n",
    "sns.relplot(cleaned_data,\n",
    "            x = 'tenure',\n",
    "            y = 'MonthlyCharges',\n",
    "            hue = 'Churn',\n",
    "            style = 'InternetService',\n",
    "            palette = {1 : 'red', 0 : 'lightgrey'},\n",
    "            alpha = 0.5)\n",
    "plt.title(\"Tenure vs. Monthly Charges Colored by Churn\")\n",
    "plt.ylabel(\"Monthly Charges\")\n",
    "plt.xlabel(\"Tenure\")\n",
    "plt.show()"
   ]
  },
  {
   "cell_type": "markdown",
   "id": "beb632ce",
   "metadata": {},
   "source": [
    "Observations: \n",
    " - Customers being charged the most are the most likely to churn\n",
    " - New customers are the most likely to churn\n",
    " - Fiber optic customers are most likely to churn. However, fiber optic customers tend to have the highest monthly charges"
   ]
  }
 ],
 "metadata": {
  "kernelspec": {
   "display_name": "venv (3.13.7)",
   "language": "python",
   "name": "python3"
  },
  "language_info": {
   "codemirror_mode": {
    "name": "ipython",
    "version": 3
   },
   "file_extension": ".py",
   "mimetype": "text/x-python",
   "name": "python",
   "nbconvert_exporter": "python",
   "pygments_lexer": "ipython3",
   "version": "3.13.7"
  }
 },
 "nbformat": 4,
 "nbformat_minor": 5
}
