{
 "cells": [
  {
   "cell_type": "code",
   "execution_count": null,
   "id": "a17a5be8",
   "metadata": {},
   "outputs": [],
   "source": [
    "import pandas as pd\n",
    "import numpy as np\n",
    "import matplotlib.pyplot as plt\n",
    "import seaborn as sns\n",
    "import sys\n",
    "import os"
   ]
  },
  {
   "cell_type": "markdown",
   "id": "29c50686",
   "metadata": {},
   "source": [
    "#### Importing Modules from Local Directory"
   ]
  },
  {
   "cell_type": "code",
   "execution_count": null,
   "id": "21a09ee5",
   "metadata": {},
   "outputs": [],
   "source": [
    "project_root = os.path.abspath('..')\n",
    "\n",
    "# Adding the project root to my system path\n",
    "if project_root not in sys.path:\n",
    "    sys.path.append(project_root)\n",
    "\n",
    "from src.data_loader import telco_data_loader\n",
    "from src.data_processor import telcoDataCleaner"
   ]
  },
  {
   "cell_type": "markdown",
   "id": "08f0a877",
   "metadata": {},
   "source": [
    "#### Loading Raw Data from Kaggle"
   ]
  },
  {
   "cell_type": "code",
   "execution_count": null,
   "id": "a67a95aa",
   "metadata": {},
   "outputs": [],
   "source": [
    "# running the loader\n",
    "raw_telco_data = telco_data_loader()"
   ]
  },
  {
   "cell_type": "markdown",
   "id": "22c2d33e",
   "metadata": {},
   "source": [
    "## Initial Data Exploration"
   ]
  },
  {
   "cell_type": "code",
   "execution_count": null,
   "id": "3db28f38",
   "metadata": {},
   "outputs": [],
   "source": [
    "print(f\"Dataframe shape: {raw_telco_data.shape}\")\n",
    "print(f\"Dataframe columns: {raw_telco_data.columns}\")\n",
    "print(raw_telco_data.info())"
   ]
  },
  {
   "cell_type": "markdown",
   "id": "63fbf7b8",
   "metadata": {},
   "source": [
    "#### Cleaning up the data for visualization"
   ]
  },
  {
   "cell_type": "code",
   "execution_count": null,
   "id": "010ceb14",
   "metadata": {},
   "outputs": [],
   "source": [
    "cleaner = telcoDataCleaner()\n",
    "\n",
    "cleaned_data = cleaner.clean_data(raw_telco_data)['clean_table']"
   ]
  },
  {
   "cell_type": "code",
   "execution_count": null,
   "id": "d267087d",
   "metadata": {},
   "outputs": [],
   "source": [
    "cleaned_data.info()"
   ]
  },
  {
   "cell_type": "code",
   "execution_count": null,
   "id": "b0852792",
   "metadata": {},
   "outputs": [],
   "source": [
    "sns.histplot(data = cleaned_data, x = 'TotalCharges')\n",
    "plt.title(\"Histogram of Total Charges\")\n",
    "plt.show()"
   ]
  },
  {
   "cell_type": "code",
   "execution_count": null,
   "id": "7a5e2bf7",
   "metadata": {},
   "outputs": [],
   "source": []
  }
 ],
 "metadata": {
  "kernelspec": {
   "display_name": "venv (3.13.7)",
   "language": "python",
   "name": "python3"
  },
  "language_info": {
   "codemirror_mode": {
    "name": "ipython",
    "version": 3
   },
   "file_extension": ".py",
   "mimetype": "text/x-python",
   "name": "python",
   "nbconvert_exporter": "python",
   "pygments_lexer": "ipython3",
   "version": "3.13.7"
  }
 },
 "nbformat": 4,
 "nbformat_minor": 5
}
