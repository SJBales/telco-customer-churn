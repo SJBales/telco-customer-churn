{
 "cells": [
  {
   "cell_type": "code",
   "execution_count": 5,
   "id": "a17a5be8",
   "metadata": {},
   "outputs": [],
   "source": [
    "import pandas as pd\n",
    "import numpy as np\n",
    "import matplotlib.pyplot as plt\n",
    "import seaborn as sns\n",
    "import sys\n",
    "import os"
   ]
  },
  {
   "cell_type": "markdown",
   "id": "29c50686",
   "metadata": {},
   "source": [
    "#### Importing Modules from Local Directory"
   ]
  },
  {
   "cell_type": "code",
   "execution_count": 6,
   "id": "21a09ee5",
   "metadata": {},
   "outputs": [
    {
     "name": "stderr",
     "output_type": "stream",
     "text": [
      "/Users/samueljoseph/Documents/Programming/telco-customer-churn/venv/lib/python3.13/site-packages/tqdm/auto.py:21: TqdmWarning: IProgress not found. Please update jupyter and ipywidgets. See https://ipywidgets.readthedocs.io/en/stable/user_install.html\n",
      "  from .autonotebook import tqdm as notebook_tqdm\n"
     ]
    }
   ],
   "source": [
    "project_root = os.path.abspath('..')\n",
    "\n",
    "# Adding the project root to my system path\n",
    "if project_root not in sys.path:\n",
    "    sys.path.append(project_root)\n",
    "\n",
    "from src.data_loader import telco_data_loader\n",
    "from src.data_processor import telcoDataCleaner"
   ]
  },
  {
   "cell_type": "markdown",
   "id": "08f0a877",
   "metadata": {},
   "source": [
    "#### Loading Raw Data from Kaggle"
   ]
  },
  {
   "cell_type": "code",
   "execution_count": 7,
   "id": "a67a95aa",
   "metadata": {},
   "outputs": [
    {
     "name": "stderr",
     "output_type": "stream",
     "text": [
      "src.data_loader - Starting download of telco data\n",
      "src.data_loader - Telco data download successful\n",
      "src.data_loader - CSV data downloaded successfully\n"
     ]
    }
   ],
   "source": [
    "# running the loader\n",
    "raw_telco_data = telco_data_loader()"
   ]
  },
  {
   "cell_type": "markdown",
   "id": "22c2d33e",
   "metadata": {},
   "source": [
    "## Initial Data Exploration"
   ]
  },
  {
   "cell_type": "code",
   "execution_count": 8,
   "id": "3db28f38",
   "metadata": {},
   "outputs": [
    {
     "name": "stdout",
     "output_type": "stream",
     "text": [
      "Dataframe shape: (7043, 21)\n",
      "Dataframe columns: Index(['customerID', 'gender', 'SeniorCitizen', 'Partner', 'Dependents',\n",
      "       'tenure', 'PhoneService', 'MultipleLines', 'InternetService',\n",
      "       'OnlineSecurity', 'OnlineBackup', 'DeviceProtection', 'TechSupport',\n",
      "       'StreamingTV', 'StreamingMovies', 'Contract', 'PaperlessBilling',\n",
      "       'PaymentMethod', 'MonthlyCharges', 'TotalCharges', 'Churn'],\n",
      "      dtype='object')\n",
      "<class 'pandas.core.frame.DataFrame'>\n",
      "RangeIndex: 7043 entries, 0 to 7042\n",
      "Data columns (total 21 columns):\n",
      " #   Column            Non-Null Count  Dtype  \n",
      "---  ------            --------------  -----  \n",
      " 0   customerID        7043 non-null   object \n",
      " 1   gender            7043 non-null   object \n",
      " 2   SeniorCitizen     7043 non-null   int64  \n",
      " 3   Partner           7043 non-null   object \n",
      " 4   Dependents        7043 non-null   object \n",
      " 5   tenure            7043 non-null   int64  \n",
      " 6   PhoneService      7043 non-null   object \n",
      " 7   MultipleLines     7043 non-null   object \n",
      " 8   InternetService   7043 non-null   object \n",
      " 9   OnlineSecurity    7043 non-null   object \n",
      " 10  OnlineBackup      7043 non-null   object \n",
      " 11  DeviceProtection  7043 non-null   object \n",
      " 12  TechSupport       7043 non-null   object \n",
      " 13  StreamingTV       7043 non-null   object \n",
      " 14  StreamingMovies   7043 non-null   object \n",
      " 15  Contract          7043 non-null   object \n",
      " 16  PaperlessBilling  7043 non-null   object \n",
      " 17  PaymentMethod     7043 non-null   object \n",
      " 18  MonthlyCharges    7043 non-null   float64\n",
      " 19  TotalCharges      7043 non-null   object \n",
      " 20  Churn             7043 non-null   object \n",
      "dtypes: float64(1), int64(2), object(18)\n",
      "memory usage: 1.1+ MB\n",
      "None\n"
     ]
    }
   ],
   "source": [
    "print(f\"Dataframe shape: {raw_telco_data.shape}\")\n",
    "print(f\"Dataframe columns: {raw_telco_data.columns}\")\n",
    "print(raw_telco_data.info())"
   ]
  },
  {
   "cell_type": "markdown",
   "id": "63fbf7b8",
   "metadata": {},
   "source": [
    "#### Cleaning up the data for visualization"
   ]
  },
  {
   "cell_type": "code",
   "execution_count": 9,
   "id": "010ceb14",
   "metadata": {},
   "outputs": [
    {
     "name": "stderr",
     "output_type": "stream",
     "text": [
      "src.data_processor - Binary columns converted\n",
      "src.data_processor - Converting gender\n",
      "src.data_processor - Data types successfully converted\n",
      "src.data_processor - Outlier Summary: {}\n",
      "src.data_processor - Columns with missing values: {'OnlineSecurity': np.int64(1526), 'DeviceProtection': np.int64(1526), 'TechSupport': np.int64(1526), 'StreamingTV': np.int64(1526), 'StreamingMovies': np.int64(1526), 'TotalCharges': np.int64(11)}\n",
      "src.data_processor - Filled missing values in TotalCharges with medians\n",
      "src.data_processor - Filled missing values in Churn with medians\n"
     ]
    }
   ],
   "source": [
    "cleaner = telcoDataCleaner()\n",
    "\n",
    "cleaned_data = cleaner.clean_data(raw_telco_data)['clean_table']"
   ]
  },
  {
   "cell_type": "markdown",
   "id": "2a15f686",
   "metadata": {},
   "source": [
    "#### Plotting"
   ]
  },
  {
   "cell_type": "code",
   "execution_count": 7,
   "id": "b0852792",
   "metadata": {},
   "outputs": [
    {
     "data": {
      "image/png": "[encoded data removed]",
      "text/plain": [
       "<Figure size 640x480 with 1 Axes>"
      ]
     },
     "metadata": {},
     "output_type": "display_data"
    }
   ],
   "source": [
    "sns.histplot(data = cleaned_data, x = 'TotalCharges')\n",
    "plt.title(\"Histogram of Total Charges\")\n",
    "plt.show()"
   ]
  },
  {
   "cell_type": "code",
   "execution_count": 10,
   "id": "7a5e2bf7",
   "metadata": {},
   "outputs": [
    {
     "name": "stdout",
     "output_type": "stream",
     "text": [
      "            gender  SeniorCitizen      Partner   Dependents       tenure  \\\n",
      "count  7043.000000    7043.000000  7043.000000  7043.000000  7043.000000   \n",
      "mean      0.504756       0.162147     0.483033     0.299588    32.371149   \n",
      "std       0.500013       0.368612     0.499748     0.458110    24.559481   \n",
      "min       0.000000       0.000000     0.000000     0.000000     0.000000   \n",
      "25%       0.000000       0.000000     0.000000     0.000000     9.000000   \n",
      "50%       1.000000       0.000000     0.000000     0.000000    29.000000   \n",
      "75%       1.000000       0.000000     1.000000     1.000000    55.000000   \n",
      "max       1.000000       1.000000     1.000000     1.000000    72.000000   \n",
      "\n",
      "       PhoneService  OnlineSecurity  DeviceProtection  TechSupport  \\\n",
      "count   7043.000000     5517.000000       5517.000000  5517.000000   \n",
      "mean       0.903166        0.365960          0.439007     0.370491   \n",
      "std        0.295752        0.481742          0.496311     0.482980   \n",
      "min        0.000000        0.000000          0.000000     0.000000   \n",
      "25%        1.000000        0.000000          0.000000     0.000000   \n",
      "50%        1.000000        0.000000          0.000000     0.000000   \n",
      "75%        1.000000        1.000000          1.000000     1.000000   \n",
      "max        1.000000        1.000000          1.000000     1.000000   \n",
      "\n",
      "       StreamingTV  StreamingMovies  MonthlyCharges  TotalCharges        Churn  \n",
      "count  5517.000000      5517.000000     7043.000000   7043.000000  7043.000000  \n",
      "mean      0.490665         0.495197       64.761692   2281.916928     0.265370  \n",
      "std       0.499958         0.500022       30.090047   2265.270398     0.441561  \n",
      "min       0.000000         0.000000       18.250000     18.800000     0.000000  \n",
      "25%       0.000000         0.000000       35.500000    402.225000     0.000000  \n",
      "50%       0.000000         0.000000       70.350000   1397.475000     0.000000  \n",
      "75%       1.000000         1.000000       89.850000   3786.600000     1.000000  \n",
      "max       1.000000         1.000000      118.750000   8684.800000     1.000000  \n"
     ]
    }
   ],
   "source": [
    "print(cleaned_data.describe())"
   ]
  },
  {
   "cell_type": "code",
   "execution_count": 12,
   "id": "88a68b40",
   "metadata": {},
   "outputs": [
    {
     "data": {
      "image/png": "[encoded data removed]",
      "text/plain": [
       "<Figure size 640x480 with 1 Axes>"
      ]
     },
     "metadata": {},
     "output_type": "display_data"
    }
   ],
   "source": [
    "sns.histplot(data = cleaned_data, x = 'MonthlyCharges')\n",
    "plt.title(\"Histogram of Monthly Charges\")\n",
    "plt.show()"
   ]
  },
  {
   "cell_type": "markdown",
   "id": "fd754270",
   "metadata": {},
   "source": [
    "Appears to be a trimodal distribution: a cluster of monthly charges around $20, another group around $50, and a final around $80"
   ]
  },
  {
   "cell_type": "code",
   "execution_count": 15,
   "id": "6ba24e77",
   "metadata": {},
   "outputs": [
    {
     "data": {
      "text/html": [
       "<div>\n",
       "<style scoped>\n",
       "    .dataframe tbody tr th:only-of-type {\n",
       "        vertical-align: middle;\n",
       "    }\n",
       "\n",
       "    .dataframe tbody tr th {\n",
       "        vertical-align: top;\n",
       "    }\n",
       "\n",
       "    .dataframe thead th {\n",
       "        text-align: right;\n",
       "    }\n",
       "</style>\n",
       "<table border=\"1\" class=\"dataframe\">\n",
       "  <thead>\n",
       "    <tr style=\"text-align: right;\">\n",
       "      <th></th>\n",
       "      <th>Churn</th>\n",
       "    </tr>\n",
       "    <tr>\n",
       "      <th>TechSupport</th>\n",
       "      <th></th>\n",
       "    </tr>\n",
       "  </thead>\n",
       "  <tbody>\n",
       "    <tr>\n",
       "      <th>0.0</th>\n",
       "      <td>0.416355</td>\n",
       "    </tr>\n",
       "    <tr>\n",
       "      <th>1.0</th>\n",
       "      <td>0.151663</td>\n",
       "    </tr>\n",
       "  </tbody>\n",
       "</table>\n",
       "</div>"
      ],
      "text/plain": [
       "                Churn\n",
       "TechSupport          \n",
       "0.0          0.416355\n",
       "1.0          0.151663"
      ]
     },
     "execution_count": 15,
     "metadata": {},
     "output_type": "execute_result"
    }
   ],
   "source": [
    "cleaned_data.loc[:, ['TechSupport', 'Churn']].groupby('TechSupport').mean()"
   ]
  },
  {
   "cell_type": "code",
   "execution_count": 16,
   "id": "e46b4372",
   "metadata": {},
   "outputs": [
    {
     "data": {
      "text/html": [
       "<div>\n",
       "<style scoped>\n",
       "    .dataframe tbody tr th:only-of-type {\n",
       "        vertical-align: middle;\n",
       "    }\n",
       "\n",
       "    .dataframe tbody tr th {\n",
       "        vertical-align: top;\n",
       "    }\n",
       "\n",
       "    .dataframe thead th {\n",
       "        text-align: right;\n",
       "    }\n",
       "</style>\n",
       "<table border=\"1\" class=\"dataframe\">\n",
       "  <thead>\n",
       "    <tr style=\"text-align: right;\">\n",
       "      <th></th>\n",
       "      <th>Churn</th>\n",
       "    </tr>\n",
       "    <tr>\n",
       "      <th>SeniorCitizen</th>\n",
       "      <th></th>\n",
       "    </tr>\n",
       "  </thead>\n",
       "  <tbody>\n",
       "    <tr>\n",
       "      <th>0</th>\n",
       "      <td>0.236062</td>\n",
       "    </tr>\n",
       "    <tr>\n",
       "      <th>1</th>\n",
       "      <td>0.416813</td>\n",
       "    </tr>\n",
       "  </tbody>\n",
       "</table>\n",
       "</div>"
      ],
      "text/plain": [
       "                  Churn\n",
       "SeniorCitizen          \n",
       "0              0.236062\n",
       "1              0.416813"
      ]
     },
     "execution_count": 16,
     "metadata": {},
     "output_type": "execute_result"
    }
   ],
   "source": [
    "cleaned_data.loc[:, ['SeniorCitizen', 'Churn']].groupby('SeniorCitizen').mean()"
   ]
  },
  {
   "cell_type": "code",
   "execution_count": 18,
   "id": "ac20ae8e",
   "metadata": {},
   "outputs": [
    {
     "data": {
      "text/html": [
       "<div>\n",
       "<style scoped>\n",
       "    .dataframe tbody tr th:only-of-type {\n",
       "        vertical-align: middle;\n",
       "    }\n",
       "\n",
       "    .dataframe tbody tr th {\n",
       "        vertical-align: top;\n",
       "    }\n",
       "\n",
       "    .dataframe thead th {\n",
       "        text-align: right;\n",
       "    }\n",
       "</style>\n",
       "<table border=\"1\" class=\"dataframe\">\n",
       "  <thead>\n",
       "    <tr style=\"text-align: right;\">\n",
       "      <th></th>\n",
       "      <th>MonthlyCharges</th>\n",
       "    </tr>\n",
       "    <tr>\n",
       "      <th>SeniorCitizen</th>\n",
       "      <th></th>\n",
       "    </tr>\n",
       "  </thead>\n",
       "  <tbody>\n",
       "    <tr>\n",
       "      <th>0</th>\n",
       "      <td>61.847441</td>\n",
       "    </tr>\n",
       "    <tr>\n",
       "      <th>1</th>\n",
       "      <td>79.820359</td>\n",
       "    </tr>\n",
       "  </tbody>\n",
       "</table>\n",
       "</div>"
      ],
      "text/plain": [
       "               MonthlyCharges\n",
       "SeniorCitizen                \n",
       "0                   61.847441\n",
       "1                   79.820359"
      ]
     },
     "execution_count": 18,
     "metadata": {},
     "output_type": "execute_result"
    }
   ],
   "source": [
    "cleaned_data.loc[:, ['SeniorCitizen', 'MonthlyCharges']].groupby('SeniorCitizen').mean()"
   ]
  },
  {
   "cell_type": "code",
   "execution_count": 21,
   "id": "6ccde019",
   "metadata": {},
   "outputs": [
    {
     "data": {
      "image/png": "[encoded data removed]",
      "text/plain": [
       "<Figure size 640x480 with 1 Axes>"
      ]
     },
     "metadata": {},
     "output_type": "display_data"
    }
   ],
   "source": [
    "sns.histplot(data = cleaned_data,\n",
    "             x = 'MonthlyCharges',\n",
    "             hue = 'SeniorCitizen',\n",
    "             multiple = 'stack')\n",
    "plt.title('Strip Plot of Total Charges by Senior Citizen')\n",
    "plt.show()"
   ]
  },
  {
   "cell_type": "code",
   "execution_count": 23,
   "id": "83f4f3b4",
   "metadata": {},
   "outputs": [
    {
     "data": {
      "text/html": [
       "<div>\n",
       "<style scoped>\n",
       "    .dataframe tbody tr th:only-of-type {\n",
       "        vertical-align: middle;\n",
       "    }\n",
       "\n",
       "    .dataframe tbody tr th {\n",
       "        vertical-align: top;\n",
       "    }\n",
       "\n",
       "    .dataframe thead th {\n",
       "        text-align: right;\n",
       "    }\n",
       "</style>\n",
       "<table border=\"1\" class=\"dataframe\">\n",
       "  <thead>\n",
       "    <tr style=\"text-align: right;\">\n",
       "      <th></th>\n",
       "      <th>tenure</th>\n",
       "    </tr>\n",
       "    <tr>\n",
       "      <th>Churn</th>\n",
       "      <th></th>\n",
       "    </tr>\n",
       "  </thead>\n",
       "  <tbody>\n",
       "    <tr>\n",
       "      <th>0</th>\n",
       "      <td>37.569965</td>\n",
       "    </tr>\n",
       "    <tr>\n",
       "      <th>1</th>\n",
       "      <td>17.979133</td>\n",
       "    </tr>\n",
       "  </tbody>\n",
       "</table>\n",
       "</div>"
      ],
      "text/plain": [
       "          tenure\n",
       "Churn           \n",
       "0      37.569965\n",
       "1      17.979133"
      ]
     },
     "execution_count": 23,
     "metadata": {},
     "output_type": "execute_result"
    }
   ],
   "source": [
    "cleaned_data.loc[:, ['tenure', 'Churn']].groupby('Churn').mean()"
   ]
  },
  {
   "cell_type": "code",
   "execution_count": null,
   "id": "7fe0a90a",
   "metadata": {},
   "outputs": [],
   "source": []
  }
 ],
 "metadata": {
  "kernelspec": {
   "display_name": "venv (3.13.7)",
   "language": "python",
   "name": "python3"
  },
  "language_info": {
   "codemirror_mode": {
    "name": "ipython",
    "version": 3
   },
   "file_extension": ".py",
   "mimetype": "text/x-python",
   "name": "python",
   "nbconvert_exporter": "python",
   "pygments_lexer": "ipython3",
   "version": "3.13.7"
  }
 },
 "nbformat": 4,
 "nbformat_minor": 5
}
