{
 "cells": [
  {
   "cell_type": "code",
   "execution_count": null,
   "id": "28472e17",
   "metadata": {},
   "outputs": [],
   "source": [
    "%load_ext autoreload\n",
    "%autoreload 2"
   ]
  },
  {
   "cell_type": "markdown",
   "id": "c0dee9b1",
   "metadata": {},
   "source": [
    "#### Loading Packages"
   ]
  },
  {
   "cell_type": "code",
   "execution_count": null,
   "id": "d2d0a41c",
   "metadata": {},
   "outputs": [],
   "source": [
    "import pandas as pd\n",
    "import numpy as np\n",
    "import matplotlib.pyplot as plt\n",
    "import seaborn as sns\n",
    "import sys\n",
    "import os\n",
    "import statsmodels.api as sm\n",
    "from statsmodels.tools import add_constant"
   ]
  },
  {
   "cell_type": "code",
   "execution_count": null,
   "id": "09cb2a92",
   "metadata": {},
   "outputs": [],
   "source": [
    "project_root = os.path.abspath('..')\n",
    "\n",
    "# Adding the project root to my system path\n",
    "if project_root not in sys.path:\n",
    "    sys.path.append(project_root)\n",
    "\n",
    "from src.data_loader import telco_data_loader\n",
    "from src.data_processor import telcoDataCleaner"
   ]
  },
  {
   "cell_type": "markdown",
   "id": "bcff7e96",
   "metadata": {},
   "source": [
    "#### Loading and cleaning data"
   ]
  },
  {
   "cell_type": "code",
   "execution_count": null,
   "id": "9b3a5753",
   "metadata": {},
   "outputs": [],
   "source": [
    "# running the loader\n",
    "raw_telco_data = telco_data_loader()\n",
    "\n",
    "cleaner = telcoDataCleaner()\n",
    "\n",
    "cleaned_data = cleaner.clean_data(raw_telco_data)"
   ]
  },
  {
   "cell_type": "code",
   "execution_count": null,
   "id": "dbcf6e63",
   "metadata": {},
   "outputs": [],
   "source": [
    "len(cleaned_data['target'][cleaned_data[\"masks\"]])"
   ]
  },
  {
   "cell_type": "markdown",
   "id": "93ab19f8",
   "metadata": {},
   "source": [
    "## Testing Models"
   ]
  },
  {
   "cell_type": "markdown",
   "id": "2b41c5c3",
   "metadata": {},
   "source": [
    "Data prep"
   ]
  },
  {
   "cell_type": "code",
   "execution_count": null,
   "id": "cbb9c769",
   "metadata": {},
   "outputs": [],
   "source": [
    "# identifying predeictors columns with NA's\n",
    "\n",
    "# Only selecting columns that aren't missing values\n",
    "non_na_cols = []\n",
    "\n",
    "for col in cleaned_data['predictors']:\n",
    "    if cleaned_data['predictors'][col].isna().sum() == 0:\n",
    "        non_na_cols.append(col)\n",
    "\n",
    "# Adding constant to the predictors\n",
    "reg_predictors = add_constant(cleaned_data['predictors'].copy(),\n",
    "                              has_constant = 'raise',\n",
    "                              prepend = True)"
   ]
  },
  {
   "cell_type": "code",
   "execution_count": null,
   "id": "0dad67d4",
   "metadata": {},
   "outputs": [],
   "source": [
    "log_reg_model = sm.Logit(endog = cleaned_data['target'][cleaned_data[\"masks\"]],\n",
    "                         exog = reg_predictors.loc[cleaned_data[\"masks\"], :]).fit()"
   ]
  },
  {
   "cell_type": "code",
   "execution_count": null,
   "id": "3688c77f",
   "metadata": {},
   "outputs": [],
   "source": [
    "print(log_reg_model.summary())"
   ]
  },
  {
   "cell_type": "markdown",
   "id": "ee9e4e17",
   "metadata": {},
   "source": []
  }
 ],
 "metadata": {
  "kernelspec": {
   "display_name": "venv (3.13.7)",
   "language": "python",
   "name": "python3"
  },
  "language_info": {
   "codemirror_mode": {
    "name": "ipython",
    "version": 3
   },
   "file_extension": ".py",
   "mimetype": "text/x-python",
   "name": "python",
   "nbconvert_exporter": "python",
   "pygments_lexer": "ipython3",
   "version": "3.13.7"
  }
 },
 "nbformat": 4,
 "nbformat_minor": 5
}
