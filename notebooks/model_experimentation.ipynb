{
 "cells": [
  {
   "cell_type": "markdown",
   "id": "c0dee9b1",
   "metadata": {},
   "source": [
    "#### Loading Packages"
   ]
  },
  {
   "cell_type": "code",
   "execution_count": null,
   "id": "d2d0a41c",
   "metadata": {},
   "outputs": [],
   "source": [
    "import pandas as pd\n",
    "import numpy as np\n",
    "\n",
    "# Plotting\n",
    "import matplotlib.pyplot as plt\n",
    "from mpl_toolkits import mplot3d\n",
    "import seaborn as sns\n",
    "\n",
    "# Utilities\n",
    "import sys\n",
    "import os\n",
    "\n",
    "# Statsmodels\n",
    "import statsmodels.api as sm\n",
    "from statsmodels.tools import add_constant\n",
    "\n",
    "# Sklearn modules\n",
    "from sklearn.linear_model import LogisticRegressionCV, LogisticRegression\n",
    "from sklearn.preprocessing import StandardScaler\n",
    "from sklearn.metrics import roc_auc_score, roc_curve, make_scorer, confusion_matrix, accuracy_score, recall_score\n",
    "from sklearn.model_selection import GridSearchCV\n",
    "from sklearn.ensemble import RandomForestClassifier"
   ]
  },
  {
   "cell_type": "code",
   "execution_count": null,
   "id": "09cb2a92",
   "metadata": {},
   "outputs": [],
   "source": [
    "project_root = os.path.abspath('..')\n",
    "\n",
    "# Adding the project root to my system path\n",
    "if project_root not in sys.path:\n",
    "    sys.path.append(project_root)\n",
    "\n",
    "from src.data_loader import telco_data_loader\n",
    "from src.data_processor import telcoDataCleaner"
   ]
  },
  {
   "cell_type": "markdown",
   "id": "bcff7e96",
   "metadata": {},
   "source": [
    "#### Loading and cleaning data"
   ]
  },
  {
   "cell_type": "code",
   "execution_count": null,
   "id": "9b3a5753",
   "metadata": {},
   "outputs": [],
   "source": [
    "# running the loader\n",
    "raw_telco_data = telco_data_loader()\n",
    "\n",
    "cleaner = telcoDataCleaner()\n",
    "\n",
    "cleaned_data = cleaner.clean_data(raw_telco_data)"
   ]
  },
  {
   "cell_type": "markdown",
   "id": "93ab19f8",
   "metadata": {},
   "source": [
    "## Testing Models"
   ]
  },
  {
   "cell_type": "markdown",
   "id": "2b41c5c3",
   "metadata": {},
   "source": [
    "Data prep"
   ]
  },
  {
   "cell_type": "code",
   "execution_count": null,
   "id": "cbb9c769",
   "metadata": {},
   "outputs": [],
   "source": [
    "# identifying predeictors columns with NA's\n",
    "\n",
    "# Only selecting columns that aren't missing values\n",
    "non_na_cols = []\n",
    "\n",
    "for col in cleaned_data['predictors']:\n",
    "    if cleaned_data['predictors'][col].isna().sum() == 0:\n",
    "        non_na_cols.append(col)\n",
    "\n",
    "# Adding constant to the predictors\n",
    "reg_predictors = add_constant(cleaned_data['predictors'].copy(),\n",
    "                              has_constant = 'raise',\n",
    "                              prepend = True)"
   ]
  },
  {
   "cell_type": "markdown",
   "id": "88d324b9",
   "metadata": {},
   "source": [
    "##### Statistical Modeling\n",
    "\n",
    "Performing regressions with the statistical model first to understand the impact of predictors."
   ]
  },
  {
   "cell_type": "code",
   "execution_count": null,
   "id": "0dad67d4",
   "metadata": {},
   "outputs": [],
   "source": [
    "online_log_reg_model = sm.Logit(endog = cleaned_data['target'][cleaned_data[\"masks\"]],\n",
    "                         exog = reg_predictors.loc[cleaned_data[\"masks\"], :]).fit()"
   ]
  },
  {
   "cell_type": "code",
   "execution_count": null,
   "id": "3688c77f",
   "metadata": {},
   "outputs": [],
   "source": [
    "print(online_log_reg_model.summary())"
   ]
  },
  {
   "cell_type": "code",
   "execution_count": null,
   "id": "905fa5a9",
   "metadata": {},
   "outputs": [],
   "source": [
    "cols_to_exclude = non_na_cols.copy()\n",
    "\n",
    "cols_to_exclude.remove(\"InternetService\")\n",
    "\n",
    "nol_log_reg_model = sm.Logit(endog = cleaned_data['target'][~np.array(cleaned_data[\"masks\"])],\n",
    "                             exog = reg_predictors.loc[~np.array(cleaned_data[\"masks\"]), cols_to_exclude]).fit()"
   ]
  },
  {
   "cell_type": "code",
   "execution_count": null,
   "id": "c0fb5010",
   "metadata": {},
   "outputs": [],
   "source": [
    "print(nol_log_reg_model.summary())"
   ]
  },
  {
   "cell_type": "markdown",
   "id": "0f3fbee0",
   "metadata": {},
   "source": [
    "## Switching to ML"
   ]
  },
  {
   "cell_type": "markdown",
   "id": "6c63dc92",
   "metadata": {},
   "source": [
    "### Internet Customers Model"
   ]
  },
  {
   "cell_type": "code",
   "execution_count": null,
   "id": "6b8a7913",
   "metadata": {},
   "outputs": [],
   "source": [
    "internet_target = cleaned_data['target'][cleaned_data[\"masks\"]]\n",
    "internet_preds = reg_predictors.loc[cleaned_data[\"masks\"], :]"
   ]
  },
  {
   "cell_type": "markdown",
   "id": "65945d5c",
   "metadata": {},
   "source": [
    "Writing a custom loss function to reflect the tradeoff of customer churn vs. outreach"
   ]
  },
  {
   "cell_type": "code",
   "execution_count": null,
   "id": "f139e066",
   "metadata": {},
   "outputs": [],
   "source": [
    "# Custom loss function\n",
    "def churn_loss(y_true, y_pred):\n",
    "    '''Custom scoring function to represent the business cost of churned customers.\n",
    "       Weights are dependent on the cost of customer acquisition.\n",
    "       Assumption is a churned customer is worth ~6 months of average revenue, \n",
    "       while interventions cost 2 months of average revenue. Therefore the relative payoff weights are 3:1'''\n",
    "\n",
    "    tn, fp, fn, tp = confusion_matrix(y_true, y_pred).ravel()\n",
    "    cost = (fn * 3) + (fp * 1)\n",
    "    return -cost\n",
    "\n",
    "# Making a custom loss scorer\n",
    "churn_loss_scorer = make_scorer(churn_loss)\n",
    "        "
   ]
  },
  {
   "cell_type": "code",
   "execution_count": null,
   "id": "44f984f9",
   "metadata": {},
   "outputs": [],
   "source": [
    "# Scaling Data\n",
    "scaler = StandardScaler()\n",
    "\n",
    "internet_preds_for_model = scaler.fit_transform(internet_preds)\n",
    "\n",
    "# Initiating Class of LogisticRegressionCV\n",
    "log_reg_cv = LogisticRegressionCV(cv = 5, \n",
    "                                  max_iter = 10000, \n",
    "                                  random_state=42,\n",
    "                                  scoring = churn_loss_scorer)\n",
    "\n",
    "# Fitting the regression\n",
    "log_reg_cv.fit(X = internet_preds, \n",
    "               y = internet_target)"
   ]
  },
  {
   "cell_type": "markdown",
   "id": "3d874952",
   "metadata": {},
   "source": [
    "### Grid Searching"
   ]
  },
  {
   "cell_type": "markdown",
   "id": "860a0b12",
   "metadata": {},
   "source": [
    "Logistic Regression"
   ]
  },
  {
   "cell_type": "code",
   "execution_count": null,
   "id": "711cccdc",
   "metadata": {},
   "outputs": [],
   "source": [
    "# Setting up the parameter grid\n",
    "log_reg_param_grid = {'C': np.linspace(start = 0.1, stop = 1, num = 10),\n",
    "                      'penalty' : ['l1', 'l2']}\n",
    "\n",
    "\n",
    "\n",
    "# Initializing a LogisticRegression class\n",
    "log_reg_gs = GridSearchCV(LogisticRegression(max_iter = 10000,\n",
    "                                             solver = 'liblinear'),\n",
    "                          scoring= {\"churn_loss\": churn_loss_scorer,\n",
    "                                    \"accuracy\": 'accuracy',\n",
    "                                   \"recall\": 'recall',\n",
    "                                    \"roc_auc\": 'roc_auc'},\n",
    "                          param_grid= log_reg_param_grid,\n",
    "                          cv = 5,\n",
    "                          refit= \"churn_loss\")"
   ]
  },
  {
   "cell_type": "code",
   "execution_count": null,
   "id": "d0a8a73e",
   "metadata": {},
   "outputs": [],
   "source": [
    "# Fitting the grid search\n",
    "log_reg_gs.fit(internet_preds, internet_target)"
   ]
  },
  {
   "cell_type": "code",
   "execution_count": null,
   "id": "087575c7",
   "metadata": {},
   "outputs": [],
   "source": [
    "# Getting the best parameters\n",
    "print(f\"Best parameters: {log_reg_gs.best_params_}\")\n",
    "print(f\"Best score: {log_reg_gs.best_score_}\")\n",
    "\n",
    "gs_cv_results_df = pd.DataFrame(log_reg_gs.cv_results_)"
   ]
  },
  {
   "cell_type": "markdown",
   "id": "a37bf8ce",
   "metadata": {},
   "source": [
    "Testing Random Forest"
   ]
  },
  {
   "cell_type": "code",
   "execution_count": null,
   "id": "82386274",
   "metadata": {},
   "outputs": [],
   "source": [
    "# Creating a random forest parameter grid\n",
    "rf_param_grid = {'n_estimators': np.arange(14, 40, 2),\n",
    "                 'max_depth': np.arange(2, 20, 2)}\n",
    "\n",
    "# Setting up the K-Fold Object\n",
    "rf_gs = GridSearchCV(RandomForestClassifier(criterion='entropy',\n",
    "                                            max_depth = 10),\n",
    "                     param_grid= rf_param_grid,\n",
    "                     cv = 5,\n",
    "                     scoring= {\"churn_loss\": churn_loss_scorer,\n",
    "                                    \"accuracy\": 'accuracy',\n",
    "                                   \"recall\": 'recall',\n",
    "                                    \"roc_auc\": 'roc_auc'},\n",
    "                    refit= 'churn_loss')"
   ]
  },
  {
   "cell_type": "code",
   "execution_count": null,
   "id": "280a6536",
   "metadata": {},
   "outputs": [],
   "source": [
    "# Fitting the Random Forest Grid\n",
    "rf_gs.fit(internet_preds, internet_target)"
   ]
  },
  {
   "cell_type": "code",
   "execution_count": null,
   "id": "52157189",
   "metadata": {},
   "outputs": [],
   "source": [
    "print(f\"Best parameters: {rf_gs.best_params_}\")\n",
    "print(f\"Best score: {rf_gs.best_score_}\")"
   ]
  },
  {
   "cell_type": "code",
   "execution_count": null,
   "id": "15c5a5bd",
   "metadata": {},
   "outputs": [],
   "source": [
    "rf_cv_results = pd.DataFrame(rf_gs.cv_results_)\n",
    "\n",
    "rf_cv_results.columns"
   ]
  },
  {
   "cell_type": "code",
   "execution_count": null,
   "id": "1b328fba",
   "metadata": {},
   "outputs": [],
   "source": [
    "rf_fig = plt.figure()\n",
    "rf_ax = plt.axes(projection='3d')\n",
    "rf_ax.view_init(elev=0, azim=0)\n",
    "rf_ax.scatter3D(rf_cv_results['param_max_depth'],\n",
    "             rf_cv_results['param_n_estimators'],\n",
    "             rf_cv_results['mean_test_churn_loss'])\n",
    "plt.xlabel('Max Depth')\n",
    "plt.ylabel('N estimators')\n",
    "plt.show()"
   ]
  },
  {
   "cell_type": "code",
   "execution_count": null,
   "id": "41c47e64",
   "metadata": {},
   "outputs": [],
   "source": []
  }
 ],
 "metadata": {
  "kernelspec": {
   "display_name": "venv (3.13.7)",
   "language": "python",
   "name": "python3"
  },
  "language_info": {
   "codemirror_mode": {
    "name": "ipython",
    "version": 3
   },
   "file_extension": ".py",
   "mimetype": "text/x-python",
   "name": "python",
   "nbconvert_exporter": "python",
   "pygments_lexer": "ipython3",
   "version": "3.13.7"
  }
 },
 "nbformat": 4,
 "nbformat_minor": 5
}
