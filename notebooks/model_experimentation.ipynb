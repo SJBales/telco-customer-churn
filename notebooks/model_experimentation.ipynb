{
 "cells": [
  {
   "cell_type": "code",
   "execution_count": 1,
   "id": "28472e17",
   "metadata": {},
   "outputs": [],
   "source": [
    "%load_ext autoreload\n",
    "%autoreload 2"
   ]
  },
  {
   "cell_type": "markdown",
   "id": "c0dee9b1",
   "metadata": {},
   "source": [
    "#### Loading Packages"
   ]
  },
  {
   "cell_type": "code",
   "execution_count": 1,
   "id": "d2d0a41c",
   "metadata": {},
   "outputs": [],
   "source": [
    "import pandas as pd\n",
    "import numpy as np\n",
    "import matplotlib.pyplot as plt\n",
    "import seaborn as sns\n",
    "import sys\n",
    "import os\n",
    "import statsmodels.api as sm"
   ]
  },
  {
   "cell_type": "code",
   "execution_count": 2,
   "id": "09cb2a92",
   "metadata": {},
   "outputs": [
    {
     "name": "stderr",
     "output_type": "stream",
     "text": [
      "/Users/samueljoseph/Documents/Programming/telco-customer-churn/venv/lib/python3.13/site-packages/tqdm/auto.py:21: TqdmWarning: IProgress not found. Please update jupyter and ipywidgets. See https://ipywidgets.readthedocs.io/en/stable/user_install.html\n",
      "  from .autonotebook import tqdm as notebook_tqdm\n"
     ]
    }
   ],
   "source": [
    "project_root = os.path.abspath('..')\n",
    "\n",
    "# Adding the project root to my system path\n",
    "if project_root not in sys.path:\n",
    "    sys.path.append(project_root)\n",
    "\n",
    "from src.data_loader import telco_data_loader\n",
    "from src.data_processor import telcoDataCleaner"
   ]
  },
  {
   "cell_type": "markdown",
   "id": "bcff7e96",
   "metadata": {},
   "source": [
    "#### Loading and cleaning data"
   ]
  },
  {
   "cell_type": "code",
   "execution_count": 3,
   "id": "9b3a5753",
   "metadata": {},
   "outputs": [
    {
     "name": "stderr",
     "output_type": "stream",
     "text": [
      "src.data_loader - Starting download of telco data\n",
      "src.data_loader - Telco data download successful\n",
      "src.data_loader - CSV data downloaded successfully\n",
      "src.data_processor - Binary columns converted\n",
      "src.data_processor - Converting gender\n",
      "src.data_processor - Converting Internet Service\n",
      "src.data_processor - Converting Multiple Lines\n",
      "src.data_processor - Created dummy columns from contract type and Payment Method\n",
      "src.data_processor - Data types successfully converted\n",
      "src.data_processor - Outlier Summary: {}\n",
      "src.data_processor - Columns with missing values: {'OnlineSecurity': np.int64(1526), 'OnlineBackup': np.int64(1526), 'DeviceProtection': np.int64(1526), 'TechSupport': np.int64(1526), 'StreamingTV': np.int64(1526), 'StreamingMovies': np.int64(1526), 'TotalCharges': np.int64(11)}\n",
      "src.data_processor - Filled missing values in TotalCharges with medians\n",
      "src.data_processor - Filled missing values in Churn with medians\n"
     ]
    }
   ],
   "source": [
    "# running the loader\n",
    "raw_telco_data = telco_data_loader()\n",
    "\n",
    "cleaner = telcoDataCleaner()\n",
    "\n",
    "cleaned_data = cleaner.clean_data(raw_telco_data)"
   ]
  },
  {
   "cell_type": "markdown",
   "id": "93ab19f8",
   "metadata": {},
   "source": [
    "## Testing Models"
   ]
  },
  {
   "cell_type": "code",
   "execution_count": null,
   "id": "cbb9c769",
   "metadata": {},
   "outputs": [
    {
     "name": "stderr",
     "output_type": "stream",
     "text": [
      "/var/folders/nl/hbd_m5l559j8xlkyyyt2w_bc0000gn/T/ipykernel_77115/269896879.py:5: SettingWithCopyWarning: \n",
      "A value is trying to be set on a copy of a slice from a DataFrame.\n",
      "Try using .loc[row_indexer,col_indexer] = value instead\n",
      "\n",
      "See the caveats in the documentation: https://pandas.pydata.org/pandas-docs/stable/user_guide/indexing.html#returning-a-view-versus-a-copy\n",
      "  cleaned_data['predictors']['constant'] = 1\n"
     ]
    }
   ],
   "source": [
    "# identifying predeictors columns with NA's\n",
    "# NEED TO UPDATE data_processor.py TO HANDLE THESE MISSING VALUES\n",
    "\n",
    "# Only selecting columns that aren't missing values\n",
    "non_na_cols = []\n",
    "\n",
    "for col in cleaned_data['predictors']:\n",
    "    if cleaned_data['predictors'][col].isna().sum() == 0:\n",
    "        non_na_cols.append(col)"
   ]
  },
  {
   "cell_type": "code",
   "execution_count": 20,
   "id": "0dad67d4",
   "metadata": {},
   "outputs": [
    {
     "name": "stdout",
     "output_type": "stream",
     "text": [
      "Optimization terminated successfully.\n",
      "         Current function value: 0.419079\n",
      "         Iterations 8\n"
     ]
    }
   ],
   "source": [
    "log_reg_model = sm.Logit(endog = cleaned_data['target'],\n",
    "                         exog = cleaned_data['predictors'].loc[:, non_na_cols]).fit()"
   ]
  },
  {
   "cell_type": "code",
   "execution_count": 18,
   "id": "3688c77f",
   "metadata": {},
   "outputs": [
    {
     "name": "stdout",
     "output_type": "stream",
     "text": [
      "                           Logit Regression Results                           \n",
      "==============================================================================\n",
      "Dep. Variable:                  Churn   No. Observations:                 7043\n",
      "Model:                          Logit   Df Residuals:                     7027\n",
      "Method:                           MLE   Df Model:                           15\n",
      "Date:                Sat, 30 Aug 2025   Pseudo R-squ.:                  0.2736\n",
      "Time:                        12:18:19   Log-Likelihood:                -2960.3\n",
      "converged:                       True   LL-Null:                       -4075.1\n",
      "Covariance Type:            nonrobust   LLR p-value:                     0.000\n",
      "=========================================================================================================\n",
      "                                            coef    std err          z      P>|z|      [0.025      0.975]\n",
      "---------------------------------------------------------------------------------------------------------\n",
      "gender                                   -0.0595      0.063     -0.943      0.346      -0.183       0.064\n",
      "SeniorCitizen                             0.2469      0.083      2.966      0.003       0.084       0.410\n",
      "Partner                                  -0.0109      0.077     -0.142      0.887      -0.161       0.139\n",
      "Dependents                               -0.2018      0.089     -2.280      0.023      -0.375      -0.028\n",
      "tenure                                   -0.0754      0.005    -14.165      0.000      -0.086      -0.065\n",
      "PhoneService                             -0.8052      0.118     -6.835      0.000      -1.036      -0.574\n",
      "MultipleLines                             0.3298      0.080      4.116      0.000       0.173       0.487\n",
      "InternetService                           0.8091      0.125      6.461      0.000       0.564       1.055\n",
      "PaperlessBilling                          0.3291      0.072      4.547      0.000       0.187       0.471\n",
      "MonthlyCharges                           -0.0059      0.004     -1.533      0.125      -0.013       0.002\n",
      "TotalCharges                              0.0005   5.93e-05      8.048      0.000       0.000       0.001\n",
      "Contract_One year                        -0.7363      0.106     -6.932      0.000      -0.944      -0.528\n",
      "Contract_Two year                        -1.6153      0.175     -9.245      0.000      -1.958      -1.273\n",
      "PaymentMethod_Credit card (automatic)    -0.2412      0.107     -2.264      0.024      -0.450      -0.032\n",
      "PaymentMethod_Electronic check            0.2251      0.086      2.629      0.009       0.057       0.393\n",
      "PaymentMethod_Mailed check               -0.3091      0.098     -3.167      0.002      -0.500      -0.118\n",
      "=========================================================================================================\n"
     ]
    }
   ],
   "source": [
    "print(log_reg_model.summary())"
   ]
  },
  {
   "cell_type": "markdown",
   "id": "ee9e4e17",
   "metadata": {},
   "source": []
  }
 ],
 "metadata": {
  "kernelspec": {
   "display_name": "venv (3.13.7)",
   "language": "python",
   "name": "python3"
  },
  "language_info": {
   "codemirror_mode": {
    "name": "ipython",
    "version": 3
   },
   "file_extension": ".py",
   "mimetype": "text/x-python",
   "name": "python",
   "nbconvert_exporter": "python",
   "pygments_lexer": "ipython3",
   "version": "3.13.7"
  }
 },
 "nbformat": 4,
 "nbformat_minor": 5
}
